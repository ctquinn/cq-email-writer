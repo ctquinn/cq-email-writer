{
 "cells": [
  {
   "cell_type": "code",
   "execution_count": 2,
   "id": "ef00e91a",
   "metadata": {},
   "outputs": [],
   "source": [
    "\n",
    "# Import Libraries\n",
    "import os\n",
    "from transformers import AutoTokenizer, AutoModelForSeq2SeqLM\n"
   ]
  },
  {
   "cell_type": "code",
   "execution_count": 3,
   "id": "ede804cd",
   "metadata": {},
   "outputs": [],
   "source": [
    "\n",
    "# Disable Parallelism (Optional)\n",
    "# Disable parallelism to avoid issues if running on a local machine\n",
    "os.environ[\"TOKENIZERS_PARALLELISM\"] = \"false\"\n"
   ]
  },
  {
   "cell_type": "code",
   "execution_count": 4,
   "id": "016eed40",
   "metadata": {},
   "outputs": [],
   "source": [
    "\n",
    "# Define Paths\n",
    "# Path to fine-tuned model\n",
    "SCRIPT_DIR = os.getcwd()  # Current working directory\n",
    "PROJECT_ROOT = os.path.abspath(os.path.join(SCRIPT_DIR, \"../../\"))\n",
    "MODEL_PATH = os.path.join(PROJECT_ROOT, \"src/transformers/fine_tuned_model\")\n"
   ]
  },
  {
   "cell_type": "code",
   "execution_count": 5,
   "id": "493be723",
   "metadata": {},
   "outputs": [
    {
     "name": "stdout",
     "output_type": "stream",
     "text": [
      "Loading the fine-tuned model and tokenizer...\n"
     ]
    }
   ],
   "source": [
    "\n",
    "# Load Model and Tokenizer\n",
    "# Load the fine-tuned model and tokenizer\n",
    "print(\"Loading the fine-tuned model and tokenizer...\")\n",
    "tokenizer = AutoTokenizer.from_pretrained(MODEL_PATH)\n",
    "model = AutoModelForSeq2SeqLM.from_pretrained(MODEL_PATH)\n"
   ]
  },
  {
   "cell_type": "code",
   "execution_count": 6,
   "id": "7b91015d",
   "metadata": {},
   "outputs": [],
   "source": [
    "\n",
    "# Define Input Text\n",
    "# Test input\n",
    "input_text = \"[SUBJECT] Question About My iPhone\\n[TEXT SO FAR] Hey Mike, I was wondering if\"\n",
    "inputs = tokenizer(input_text, return_tensors=\"pt\")\n"
   ]
  },
  {
   "cell_type": "code",
   "execution_count": 7,
   "id": "da0470cc",
   "metadata": {},
   "outputs": [
    {
     "name": "stdout",
     "output_type": "stream",
     "text": [
      "Generating output...\n"
     ]
    }
   ],
   "source": [
    "\n",
    "# Generate the Output\n",
    "# Generate the output using beam search\n",
    "print(\"Generating output...\")\n",
    "output_ids = model.generate(\n",
    "    inputs.input_ids,\n",
    "    max_length=100,  # Adjust max_length as needed\n",
    "    num_beams=10,  # Beam search for better results (optional)\n",
    "    early_stopping=True,\n",
    ")\n",
    "output_text = tokenizer.decode(output_ids[0], skip_special_tokens=True)\n"
   ]
  },
  {
   "cell_type": "code",
   "execution_count": 8,
   "id": "3673f441",
   "metadata": {},
   "outputs": [
    {
     "name": "stdout",
     "output_type": "stream",
     "text": [
      "Generated Output:\n",
      "I had a problem with\n"
     ]
    }
   ],
   "source": [
    "\n",
    "# Print the Output\n",
    "print(\"Generated Output:\")\n",
    "print(output_text)\n"
   ]
  }
 ],
 "metadata": {
  "kernelspec": {
   "display_name": ".venv",
   "language": "python",
   "name": "python3"
  },
  "language_info": {
   "codemirror_mode": {
    "name": "ipython",
    "version": 3
   },
   "file_extension": ".py",
   "mimetype": "text/x-python",
   "name": "python",
   "nbconvert_exporter": "python",
   "pygments_lexer": "ipython3",
   "version": "3.12.7"
  }
 },
 "nbformat": 4,
 "nbformat_minor": 5
}
